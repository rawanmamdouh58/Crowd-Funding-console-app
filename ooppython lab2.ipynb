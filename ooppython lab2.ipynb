{
 "cells": [
  {
   "cell_type": "code",
   "execution_count": 39,
   "id": "98efac8b-7a0a-47e9-9071-216af1233380",
   "metadata": {},
   "outputs": [
    {
     "data": {
      "text/plain": [
       "'is the number in range :true'"
      ]
     },
     "execution_count": 39,
     "metadata": {},
     "output_type": "execute_result"
    }
   ],
   "source": [
    "#1\n",
    "def check(num):\n",
    " \n",
    "  if num in range(-5,5):\n",
    "     return \"is the number in range :true\"\n",
    "  else: \n",
    "     return \"is the number in range :false\"\n",
    "        \n",
    "check(3)\n"
   ]
  },
  {
   "cell_type": "code",
   "execution_count": 40,
   "id": "7d689e96-041e-4b0e-ab23-11f1b2e16911",
   "metadata": {},
   "outputs": [
    {
     "data": {
      "text/plain": [
       "'is the number in range :false'"
      ]
     },
     "execution_count": 40,
     "metadata": {},
     "output_type": "execute_result"
    }
   ],
   "source": [
    "check(5)"
   ]
  },
  {
   "cell_type": "code",
   "execution_count": 41,
   "id": "bf1f3936-9adb-4b7b-a7d1-1bd8cab8a820",
   "metadata": {},
   "outputs": [
    {
     "data": {
      "text/plain": [
       "'is the number in range :false'"
      ]
     },
     "execution_count": 41,
     "metadata": {},
     "output_type": "execute_result"
    }
   ],
   "source": [
    "check(10)"
   ]
  },
  {
   "cell_type": "code",
   "execution_count": 87,
   "id": "6e77dfa5-1a90-477b-b56d-b4fd9262cf8a",
   "metadata": {},
   "outputs": [],
   "source": [
    "#2\n",
    "list1 =[\"name\",\"age\",\"gender\"]\n",
    "list2=[\"rorr\",23,\"female\",5]\n"
   ]
  },
  {
   "cell_type": "code",
   "execution_count": 88,
   "id": "47b2a6fd-9e4f-4269-983b-be81df7c3739",
   "metadata": {},
   "outputs": [
    {
     "name": "stdout",
     "output_type": "stream",
     "text": [
      "{'name': 'rorr', 'age': 23, 'gender': 'female'}\n"
     ]
    }
   ],
   "source": [
    "dictionary = {list1[i]: list2[i] for i in range(len(list1))}\n",
    "\n",
    "print(dictionary)"
   ]
  },
  {
   "cell_type": "code",
   "execution_count": 57,
   "id": "2e560350-7fcc-43af-8724-928626447ef6",
   "metadata": {},
   "outputs": [
    {
     "name": "stdout",
     "output_type": "stream",
     "text": [
      "[1, 4, 9, 16, 25, 36, 49, 64, 81, 100, 121, 144, 169, 196, 225, 256, 289, 324, 361, 400, 441, 484, 529, 576, 625, 676, 729, 784, 841, 900]\n"
     ]
    }
   ],
   "source": [
    "#3\n",
    "def sqlist(): \n",
    "    square = [] \n",
    "    for i in range(1, 31): \n",
    "        square.append(i ** 2) \n",
    "    print(square) \n",
    "\n",
    "sqlist()"
   ]
  },
  {
   "cell_type": "code",
   "execution_count": 74,
   "id": "efb1c267-b17d-49f7-b451-3e6196ffd5fe",
   "metadata": {},
   "outputs": [
    {
     "name": "stdout",
     "output_type": "stream",
     "text": [
      "[3, 6, 4, 0]\n"
     ]
    }
   ],
   "source": [
    "#4\n",
    "list =[3,6,4,0,8] \n",
    "#4.a\n",
    "list.pop()\n",
    "print(list)"
   ]
  },
  {
   "cell_type": "code",
   "execution_count": 75,
   "id": "6dfb14b4-ab50-4c57-b330-5ac6845e0bf3",
   "metadata": {},
   "outputs": [
    {
     "name": "stdout",
     "output_type": "stream",
     "text": [
      "[3, 'R', 6, 4, 0]\n"
     ]
    }
   ],
   "source": [
    "#4.b\n",
    "list.insert(1,'R')\n",
    "print(list)"
   ]
  },
  {
   "cell_type": "code",
   "execution_count": 77,
   "id": "5b824103-72d2-479b-9888-eea3510e1016",
   "metadata": {},
   "outputs": [
    {
     "name": "stdin",
     "output_type": "stream",
     "text": [
      "enter a number 9\n"
     ]
    },
    {
     "name": "stdout",
     "output_type": "stream",
     "text": [
      "[3, 'R', 6, 4, 0, 9, 9]\n"
     ]
    }
   ],
   "source": [
    "#4.c\n",
    "number = int(input(\"enter a number\"))\n",
    "list.append(number)\n",
    "print(list)\n"
   ]
  },
  {
   "cell_type": "code",
   "execution_count": 79,
   "id": "30ca6e4c-32a1-445b-af52-f2f5dade38ef",
   "metadata": {},
   "outputs": [
    {
     "name": "stdout",
     "output_type": "stream",
     "text": [
      "[3, 'R', 6, 4, 0]\n"
     ]
    }
   ],
   "source": [
    "#4.c\n",
    "list.remove(9)\n",
    "print(list)"
   ]
  },
  {
   "cell_type": "code",
   "execution_count": 85,
   "id": "cdfada4f-9752-45d9-948c-733532856837",
   "metadata": {},
   "outputs": [],
   "source": [
    "#5\n",
    "dic1={\"name\":\"rorr\", \"age\":23 ,\"lang\":\"arabic\"}\n",
    "dic2={\"name\":\"rawan\" , \"gender\":\"female\" , \"length\":190 }\n"
   ]
  },
  {
   "cell_type": "code",
   "execution_count": 86,
   "id": "9e87f74c-1bc5-47db-aaea-2f4de8ed7473",
   "metadata": {},
   "outputs": [
    {
     "name": "stdout",
     "output_type": "stream",
     "text": [
      "{'name': 'rawan', 'age': 23, 'lang': 'arabic', 'gender': 'female', 'length': 190}\n"
     ]
    }
   ],
   "source": [
    "dic1.update(dic2)\n",
    "print(dic1)"
   ]
  },
  {
   "cell_type": "code",
   "execution_count": null,
   "id": "8151a891-4de7-4c8a-b51f-3b023914c532",
   "metadata": {},
   "outputs": [],
   "source": []
  }
 ],
 "metadata": {
  "kernelspec": {
   "display_name": "Python 3 (ipykernel)",
   "language": "python",
   "name": "python3"
  },
  "language_info": {
   "codemirror_mode": {
    "name": "ipython",
    "version": 3
   },
   "file_extension": ".py",
   "mimetype": "text/x-python",
   "name": "python",
   "nbconvert_exporter": "python",
   "pygments_lexer": "ipython3",
   "version": "3.12.7"
  }
 },
 "nbformat": 4,
 "nbformat_minor": 5
}
