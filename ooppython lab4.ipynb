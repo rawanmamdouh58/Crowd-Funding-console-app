{
 "cells": [
  {
   "cell_type": "code",
   "execution_count": 45,
   "id": "86daedf9-c418-41cf-8baf-ed4c957243d4",
   "metadata": {},
   "outputs": [],
   "source": [
    "#1\n",
    "class Queue:\n",
    "    def __init__(self):\n",
    "        self.items = []\n",
    "\n",
    "    def insert(self, value):\n",
    "        self.items.append(value)\n",
    "\n",
    "    def pop(self):\n",
    "        return self.items.pop(0)\n",
    "\n",
    "    def is_empty(self):\n",
    "        return len(self.items) == 0"
   ]
  },
  {
   "cell_type": "code",
   "execution_count": 46,
   "id": "32c9e2af-c0e5-447d-bd24-e18a4f16256d",
   "metadata": {},
   "outputs": [
    {
     "name": "stdout",
     "output_type": "stream",
     "text": [
      "queue empty? True\n",
      "[10, 20, 30]\n",
      "queue after pop [20, 30]\n",
      "queue empty? False\n"
     ]
    }
   ],
   "source": [
    "#1\n",
    "my_queue = Queue()\n",
    "print(\"queue empty?\", my_queue.is_empty()) \n",
    "\n",
    "\n",
    "my_queue.insert(10)\n",
    "my_queue.insert(20)\n",
    "my_queue.insert(30)\n",
    "print( my_queue.items) \n",
    "\n",
    "my_queue.pop()\n",
    "print(\"queue after pop\", my_queue.items) \n",
    "\n",
    "print(\"queue empty?\", my_queue.is_empty()) \n"
   ]
  },
  {
   "cell_type": "code",
   "execution_count": 38,
   "id": "9e740e7e-8089-4900-8892-1bf9f4357022",
   "metadata": {},
   "outputs": [],
   "source": [
    "#2\n",
    "import pickle\n",
    "class QueueOutOfRangeException(Exception):\n",
    "    pass\n",
    "\n",
    "class NamedQueue:\n",
    "    instances = {}  \n",
    "    def __init__(self, name, size):\n",
    "        self.name = name\n",
    "        self.size = size\n",
    "        self.items = []\n",
    "        NamedQueue.instances[name] = self  \n",
    "\n",
    "    def insert(self, value):\n",
    "        if len(self.items) >= self.size:\n",
    "            raise QueueOutOfRangeException(f\" exception !! {self.name} is full.\")\n",
    "        self.items.append(value)\n",
    "\n",
    "    def pop(self):\n",
    "        return self.items.pop(0)\n",
    "\n",
    "    def is_empty(self):\n",
    "        return len(self.items) == 0\n",
    "\n",
    "    @classmethod\n",
    "    def save(cls, filename):\n",
    "        with open(filename, 'wb') as file:\n",
    "            pickle.dump(cls.instances, file)\n",
    "\n",
    "    @classmethod\n",
    "    def load(cls, filename):\n",
    "        with open(filename, 'rb') as file:\n",
    "            cls.instances = pickle.load(file)\n",
    "\n",
    "    @classmethod\n",
    "    def get_queue(cls, name):\n",
    "        return cls.instances.get(name, None)"
   ]
  },
  {
   "cell_type": "code",
   "execution_count": 50,
   "id": "58c2e586-6090-4eb0-bb73-8c93f78dc83f",
   "metadata": {
    "scrolled": true
   },
   "outputs": [
    {
     "name": "stdout",
     "output_type": "stream",
     "text": [
      " exception !! my_queue is full.\n",
      "1\n",
      "False\n",
      "{'my_queue': <__main__.NamedQueue object at 0x000001D85814F1A0>}\n",
      "[2, 3]\n",
      "2\n"
     ]
    }
   ],
   "source": [
    "#2\n",
    "\n",
    "named_queue = NamedQueue(\"my_queue\", 3)\n",
    "named_queue.insert(1)\n",
    "named_queue.insert(2)\n",
    "\n",
    "try:\n",
    "    named_queue.insert(3)\n",
    "    named_queue.insert(4) \n",
    "except QueueOutOfRangeException as e:\n",
    "    print(e)\n",
    "\n",
    "print(named_queue.pop())  \n",
    "print(named_queue.is_empty()) \n",
    "print(NamedQueue.instances)\n",
    "\n",
    "NamedQueue.save(\"queues.pkl\")\n",
    "NamedQueue.instances.clear()\n",
    "NamedQueue.load(\"queues.pkl\")\n",
    "retrieved_queue = NamedQueue.get_queue(\"my_queue\")\n",
    "print(retrieved_queue.items)\n",
    "print(retrieved_queue.pop())  "
   ]
  },
  {
   "cell_type": "code",
   "execution_count": null,
   "id": "979fd184-4403-48ef-916d-e37511f236e9",
   "metadata": {},
   "outputs": [],
   "source": []
  }
 ],
 "metadata": {
  "kernelspec": {
   "display_name": "Python 3 (ipykernel)",
   "language": "python",
   "name": "python3"
  },
  "language_info": {
   "codemirror_mode": {
    "name": "ipython",
    "version": 3
   },
   "file_extension": ".py",
   "mimetype": "text/x-python",
   "name": "python",
   "nbconvert_exporter": "python",
   "pygments_lexer": "ipython3",
   "version": "3.12.7"
  }
 },
 "nbformat": 4,
 "nbformat_minor": 5
}
