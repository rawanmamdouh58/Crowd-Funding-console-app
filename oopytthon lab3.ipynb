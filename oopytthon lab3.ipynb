{
 "cells": [
  {
   "cell_type": "code",
   "execution_count": 1,
   "id": "3d0fbf29-9d66-4810-b540-d83fd2a0d752",
   "metadata": {},
   "outputs": [
    {
     "name": "stdout",
     "output_type": "stream",
     "text": [
      "d\n"
     ]
    }
   ],
   "source": [
    "def find_extra_char(s1, s2):\n",
    "    result = 0\n",
    "    for char in s1+s2:\n",
    "        result ^= ord(char)\n",
    "   \n",
    "    return chr(result) \n",
    "s1 = \"eueiieo\"\n",
    "s2 = \"iieoedue\"\n",
    "print(find_extra_char(s1, s2)) "
   ]
  },
  {
   "cell_type": "code",
   "execution_count": 25,
   "id": "cb81eff3-7f33-4122-94ba-3a84ad60bd78",
   "metadata": {},
   "outputs": [
    {
     "name": "stdout",
     "output_type": "stream",
     "text": [
      "v\n"
     ]
    }
   ],
   "source": [
    "##1\n",
    "def check(s, d):\n",
    "    s_sorted = ''.join(sorted(s))\n",
    "    d_sorted = ''.join(sorted(d))\n",
    "   # print(s_sorted,d_sorted)\n",
    "    for i in range(len(d_sorted)):\n",
    "        if i >= len(s_sorted) or s_sorted[i] != d_sorted[i]:\n",
    "            return d_sorted[i]\n",
    "s = \"rawan\"\n",
    "d = \"wavarn\"\n",
    "print(check(s, d)) "
   ]
  },
  {
   "cell_type": "code",
   "execution_count": 62,
   "id": "6f6f245d-2780-45fa-8c6d-44cd2f3db9e0",
   "metadata": {},
   "outputs": [
    {
     "name": "stdout",
     "output_type": "stream",
     "text": [
      "o\n"
     ]
    }
   ],
   "source": [
    "###1\n",
    "def check(s1, s2):\n",
    "    char_count = {}\n",
    "    for char in s1:\n",
    "        if char in char_count:\n",
    "            char_count[char] += 1\n",
    "        else:\n",
    "            char_count[char] = 1\n",
    "    for char in s2:\n",
    "        if char in char_count:\n",
    "            char_count[char] -= 1\n",
    "        else:\n",
    "            return char\n",
    "\n",
    "   \n",
    "\n",
    "s1 = \"rawan\"\n",
    "s2 = \"arowan\"\n",
    "print(check(s1, s2))  "
   ]
  },
  {
   "cell_type": "code",
   "execution_count": 27,
   "id": "3fc9a756-d6f8-408c-bc34-f2a89059ae1c",
   "metadata": {},
   "outputs": [
    {
     "name": "stdout",
     "output_type": "stream",
     "text": [
      "198\n"
     ]
    }
   ],
   "source": [
    "##2\n",
    "def num(number):\n",
    "    digits = list(str(number))\n",
    "    smallest = int(''.join(sorted(digits)))\n",
    "    largest = int(''.join(sorted(digits, reverse=True)))\n",
    "    return largest - smallest\n",
    "print(num(213)) "
   ]
  },
  {
   "cell_type": "code",
   "execution_count": 28,
   "id": "939385cd-e7b3-434c-9890-4720ebd3b7e7",
   "metadata": {},
   "outputs": [
    {
     "name": "stdout",
     "output_type": "stream",
     "text": [
      "hello there \n",
      "iam rawan mamdouh \n",
      "trainee at iti"
     ]
    }
   ],
   "source": [
    "##1.lab3\n",
    "\n",
    "f=open('file.txt','r')\n",
    "lines=f.readlines()\n",
    "f.close()\n",
    "for line in lines:\n",
    "    print(line,end='')\n"
   ]
  },
  {
   "cell_type": "code",
   "execution_count": 29,
   "id": "43ed71a8-8537-40d1-a1b2-fd8df7269204",
   "metadata": {},
   "outputs": [
    {
     "name": "stdout",
     "output_type": "stream",
     "text": [
      "hello there \n",
      "iam rawan mamdouh \n",
      "trainee at iti"
     ]
    }
   ],
   "source": [
    "##11\n",
    "with open('file.txt', 'r') as f:\n",
    "    for line in f:\n",
    "        print(line, end='')"
   ]
  },
  {
   "cell_type": "code",
   "execution_count": 43,
   "id": "79b31013-8398-4def-81af-67f9cd5d6928",
   "metadata": {},
   "outputs": [
    {
     "name": "stdout",
     "output_type": "stream",
     "text": [
      "List written to output.txt\n"
     ]
    }
   ],
   "source": [
    "##2\n",
    "listt = [\"mother\", \"father\", \"sisy\", \"koko\"]\n",
    "name = \"rawan mamdouh\"\n",
    "listt.append(name)\n",
    "fileName = \"output.txt\"  \n",
    "\n",
    "with open(fileName, \"w\") as file:\n",
    "    for i in listt:\n",
    "        file.write(i + \"\\n\") \n",
    "print(f\"List written to {fileName}\")"
   ]
  },
  {
   "cell_type": "code",
   "execution_count": 58,
   "id": "4365ef9b-0ed0-4928-9d7d-82be87849e75",
   "metadata": {},
   "outputs": [
    {
     "name": "stdout",
     "output_type": "stream",
     "text": [
      "8\n",
      "2\n",
      "5.0\n",
      "15\n"
     ]
    }
   ],
   "source": [
    "#3\n",
    "from Calculator.my_functions import sum, subtract, divide, multiply\n",
    "print(sum(5, 3))        \n",
    "print(subtract(5, 3))   \n",
    "print(divide(5, 1))    \n",
    "print(multiply(5, 3))    "
   ]
  },
  {
   "cell_type": "code",
   "execution_count": 65,
   "id": "5d1e4df7-b18e-48d8-ac9d-125ee76bd1d4",
   "metadata": {},
   "outputs": [
    {
     "name": "stdin",
     "output_type": "stream",
     "text": [
      "Enter operand (0 for sum, 1 for subtract, 2 for divide, 3 for multiply):  3\n",
      "Enter first number:  1\n",
      "Enter second number:  0\n"
     ]
    },
    {
     "name": "stdout",
     "output_type": "stream",
     "text": [
      "ValueError: Multiply with Zero\n"
     ]
    }
   ],
   "source": [
    "#4\n",
    "from Calculator.my_functions import sum, subtract, divide, multiply\n",
    "\n",
    "def fun():\n",
    "    try:\n",
    "        operand = int(input(\"Enter operand (0 for sum, 1 for subtract, 2 for divide, 3 for multiply): \"))\n",
    "        num1 = int(input(\"Enter first number: \"))\n",
    "        num2 = int(input(\"Enter second number: \"))\n",
    "\n",
    "        if operand == 0:\n",
    "            result = sum(num1, num2)\n",
    "            print(f\"Result: {result}\")\n",
    "#4.a\n",
    "        elif operand == 1:  \n",
    "            if num1 == 0 or num2 == 0:\n",
    "                raise ValueError(\"Subtracting zero from Number\")\n",
    "            result = subtract(num1, num2)\n",
    "            print(f\"Result: {result}\")\n",
    " #4.b\n",
    "        elif operand == 2: \n",
    "            if num1 == 0 or num2 == 0:\n",
    "                raise ZeroDivisionError(\"Can't divide with zero\")\n",
    "            result = divide(num1, num2)\n",
    "            print(f\"Result: {result}\")\n",
    "#4.c\n",
    "        elif operand == 3:  \n",
    "            if num1 == 0 or num2 == 0:\n",
    "                raise ValueError(\"Multiply with Zero\")\n",
    "            result = multiply(num1, num2)\n",
    "            print(f\"Result: {result}\")\n",
    "\n",
    "        else:\n",
    "            print(\"Invalid operand. Please enter a number between 0 and 3.\")\n",
    "\n",
    "    except ValueError as ve:\n",
    "        print(f\"ValueError: {ve}\")\n",
    "    except Exception as e:\n",
    "        print(f\"An error occurred: {e}\")\n",
    "\n",
    "fun()"
   ]
  },
  {
   "cell_type": "code",
   "execution_count": null,
   "id": "628b4bb4-4ebe-4921-88e0-2eeb3d529811",
   "metadata": {},
   "outputs": [],
   "source": []
  }
 ],
 "metadata": {
  "kernelspec": {
   "display_name": "Python 3 (ipykernel)",
   "language": "python",
   "name": "python3"
  },
  "language_info": {
   "codemirror_mode": {
    "name": "ipython",
    "version": 3
   },
   "file_extension": ".py",
   "mimetype": "text/x-python",
   "name": "python",
   "nbconvert_exporter": "python",
   "pygments_lexer": "ipython3",
   "version": "3.12.7"
  }
 },
 "nbformat": 4,
 "nbformat_minor": 5
}
