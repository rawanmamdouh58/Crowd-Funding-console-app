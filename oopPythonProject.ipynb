{
 "cells": [
  {
   "cell_type": "code",
   "execution_count": null,
   "id": "c34e4774-25fe-449f-9221-0d7051474fd9",
   "metadata": {},
   "outputs": [
    {
     "name": "stdout",
     "output_type": "stream",
     "text": [
      "\n",
      "Main Menu:\n",
      "1. Register\n",
      "2. Login\n",
      "3. Exit\n"
     ]
    },
    {
     "name": "stdin",
     "output_type": "stream",
     "text": [
      "Choose an option:  1\n"
     ]
    },
    {
     "name": "stdout",
     "output_type": "stream",
     "text": [
      "Registration:\n"
     ]
    },
    {
     "name": "stdin",
     "output_type": "stream",
     "text": [
      "First Name:  reem\n",
      "Last Name:  mojam\n",
      "Email:  aa@dd.com\n",
      "Password:  aaaa\n",
      "Confirm Password:  aaa\n"
     ]
    },
    {
     "name": "stdout",
     "output_type": "stream",
     "text": [
      "Passwords do not match. Please try again.\n"
     ]
    },
    {
     "name": "stdin",
     "output_type": "stream",
     "text": [
      "Password:  123\n",
      "Confirm Password:  123\n",
      "Mobile Phone (Egyptian number):  012123456789\n"
     ]
    },
    {
     "name": "stdout",
     "output_type": "stream",
     "text": [
      "Invalid Egyptian phone number. Please try again.\n"
     ]
    },
    {
     "name": "stdin",
     "output_type": "stream",
     "text": [
      "Mobile Phone (Egyptian number):  0111234568\n"
     ]
    },
    {
     "name": "stdout",
     "output_type": "stream",
     "text": [
      "Invalid Egyptian phone number. Please try again.\n"
     ]
    },
    {
     "name": "stdin",
     "output_type": "stream",
     "text": [
      "Mobile Phone (Egyptian number):  0128495337\n"
     ]
    },
    {
     "name": "stdout",
     "output_type": "stream",
     "text": [
      "Invalid Egyptian phone number. Please try again.\n"
     ]
    },
    {
     "name": "stdin",
     "output_type": "stream",
     "text": [
      "Mobile Phone (Egyptian number):  01028495443\n"
     ]
    },
    {
     "name": "stdout",
     "output_type": "stream",
     "text": [
      "Registration successful! You can now login.\n",
      "\n",
      "Main Menu:\n",
      "1. Register\n",
      "2. Login\n",
      "3. Exit\n"
     ]
    },
    {
     "name": "stdin",
     "output_type": "stream",
     "text": [
      "Choose an option:  2\n"
     ]
    },
    {
     "name": "stdout",
     "output_type": "stream",
     "text": [
      "Login:\n"
     ]
    },
    {
     "name": "stdin",
     "output_type": "stream",
     "text": [
      "Email:  aa@dd.com\n",
      "Password:  123\n"
     ]
    },
    {
     "name": "stdout",
     "output_type": "stream",
     "text": [
      "Welcome, reem mojam!\n",
      "\n",
      "User Menu:\n",
      "1. Create Project\n",
      "2. View All Projects\n",
      "3. Edit Your Projects\n",
      "4. Delete Your Project\n",
      "5. Search Projects by Date\n",
      "6. Logout\n"
     ]
    },
    {
     "name": "stdin",
     "output_type": "stream",
     "text": [
      "Choose an option:  2\n"
     ]
    },
    {
     "name": "stdout",
     "output_type": "stream",
     "text": [
      "\n",
      "All Projects:\n",
      "Title: c#, Details: oop, Target: 120000 EGP, Start Date: 2020-12-16, End Date: 2020-12-16, Owner: AHMED@GMAIL.COM\n",
      "Title: js, Details: big project, Target: 20000 EGP, Start Date: 2020-04-14, End Date: 2025-12-13, Owner: aa@cc.com\n",
      "\n",
      "User Menu:\n",
      "1. Create Project\n",
      "2. View All Projects\n",
      "3. Edit Your Projects\n",
      "4. Delete Your Project\n",
      "5. Search Projects by Date\n",
      "6. Logout\n"
     ]
    },
    {
     "name": "stdin",
     "output_type": "stream",
     "text": [
      "Choose an option:  3\n"
     ]
    },
    {
     "name": "stdout",
     "output_type": "stream",
     "text": [
      "\n",
      "Your Projects:\n",
      "You have no projects to edit.\n",
      "\n",
      "User Menu:\n",
      "1. Create Project\n",
      "2. View All Projects\n",
      "3. Edit Your Projects\n",
      "4. Delete Your Project\n",
      "5. Search Projects by Date\n",
      "6. Logout\n"
     ]
    },
    {
     "name": "stdin",
     "output_type": "stream",
     "text": [
      "Choose an option:  1\n"
     ]
    },
    {
     "name": "stdout",
     "output_type": "stream",
     "text": [
      "Create Project:\n"
     ]
    },
    {
     "name": "stdin",
     "output_type": "stream",
     "text": [
      "Title:  c--\n",
      "Details:  pro\n",
      "Total Target (EGP):  30000\n",
      "Start Date (YYYY-MM-DD):  2025-12-05\n",
      "End Date (YYYY-MM-DD):  2030-04-14\n"
     ]
    },
    {
     "name": "stdout",
     "output_type": "stream",
     "text": [
      "Project created successfully!\n",
      "\n",
      "User Menu:\n",
      "1. Create Project\n",
      "2. View All Projects\n",
      "3. Edit Your Projects\n",
      "4. Delete Your Project\n",
      "5. Search Projects by Date\n",
      "6. Logout\n"
     ]
    },
    {
     "name": "stdin",
     "output_type": "stream",
     "text": [
      "Choose an option:  2\n"
     ]
    },
    {
     "name": "stdout",
     "output_type": "stream",
     "text": [
      "\n",
      "All Projects:\n",
      "Title: c#, Details: oop, Target: 120000 EGP, Start Date: 2020-12-16, End Date: 2020-12-16, Owner: AHMED@GMAIL.COM\n",
      "Title: js, Details: big project, Target: 20000 EGP, Start Date: 2020-04-14, End Date: 2025-12-13, Owner: aa@cc.com\n",
      "Title: c--, Details: pro, Target: 30000 EGP, Start Date: 2025-12-05, End Date: 2030-04-14, Owner: aa@dd.com\n",
      "\n",
      "User Menu:\n",
      "1. Create Project\n",
      "2. View All Projects\n",
      "3. Edit Your Projects\n",
      "4. Delete Your Project\n",
      "5. Search Projects by Date\n",
      "6. Logout\n"
     ]
    },
    {
     "name": "stdin",
     "output_type": "stream",
     "text": [
      "Choose an option:  3\n"
     ]
    },
    {
     "name": "stdout",
     "output_type": "stream",
     "text": [
      "\n",
      "Your Projects:\n",
      "1. Title: c--, Details: pro, Target: 30000 EGP, Start Date: 2025-12-05, End Date: 2030-04-14\n"
     ]
    },
    {
     "name": "stdin",
     "output_type": "stream",
     "text": [
      "Select a project to edit (by number):  1\n"
     ]
    },
    {
     "name": "stdout",
     "output_type": "stream",
     "text": [
      "Editing Project: c--\n"
     ]
    },
    {
     "name": "stdin",
     "output_type": "stream",
     "text": [
      "New Title:  eee\n",
      "New Details:  ttt\n",
      "New Total Target (EGP):  200\n",
      "New Start Date (YYYY-MM-DD):  1999-11-09\n",
      "New End Date (YYYY-MM-DD):  2000-04-02\n"
     ]
    },
    {
     "name": "stdout",
     "output_type": "stream",
     "text": [
      "Project updated successfully!\n",
      "\n",
      "User Menu:\n",
      "1. Create Project\n",
      "2. View All Projects\n",
      "3. Edit Your Projects\n",
      "4. Delete Your Project\n",
      "5. Search Projects by Date\n",
      "6. Logout\n"
     ]
    },
    {
     "name": "stdin",
     "output_type": "stream",
     "text": [
      "Choose an option:  2\n"
     ]
    },
    {
     "name": "stdout",
     "output_type": "stream",
     "text": [
      "\n",
      "All Projects:\n",
      "Title: c#, Details: oop, Target: 120000 EGP, Start Date: 2020-12-16, End Date: 2020-12-16, Owner: AHMED@GMAIL.COM\n",
      "Title: js, Details: big project, Target: 20000 EGP, Start Date: 2020-04-14, End Date: 2025-12-13, Owner: aa@cc.com\n",
      "Title: eee, Details: ttt, Target: 200 EGP, Start Date: 1999-11-09, End Date: 2000-04-02, Owner: aa@dd.com\n",
      "\n",
      "User Menu:\n",
      "1. Create Project\n",
      "2. View All Projects\n",
      "3. Edit Your Projects\n",
      "4. Delete Your Project\n",
      "5. Search Projects by Date\n",
      "6. Logout\n"
     ]
    },
    {
     "name": "stdin",
     "output_type": "stream",
     "text": [
      "Choose an option:  3\n"
     ]
    },
    {
     "name": "stdout",
     "output_type": "stream",
     "text": [
      "\n",
      "Your Projects:\n",
      "1. Title: eee, Details: ttt, Target: 200 EGP, Start Date: 1999-11-09, End Date: 2000-04-02\n"
     ]
    },
    {
     "name": "stdin",
     "output_type": "stream",
     "text": [
      "Select a project to edit (by number):  1\n"
     ]
    },
    {
     "name": "stdout",
     "output_type": "stream",
     "text": [
      "Editing Project: eee\n"
     ]
    },
    {
     "name": "stdin",
     "output_type": "stream",
     "text": [
      "New Title:  www\n",
      "New Details:  qq\n",
      "New Total Target (EGP):  11\n",
      "New Start Date (YYYY-MM-DD):  200-04-14\n"
     ]
    },
    {
     "name": "stdout",
     "output_type": "stream",
     "text": [
      "Invalid date format. Please use YYYY-MM-DD.\n"
     ]
    },
    {
     "name": "stdin",
     "output_type": "stream",
     "text": [
      "New Start Date (YYYY-MM-DD):  2024-05-07\n",
      "New End Date (YYYY-MM-DD):  2026-03-02\n"
     ]
    },
    {
     "name": "stdout",
     "output_type": "stream",
     "text": [
      "Project updated successfully!\n",
      "\n",
      "User Menu:\n",
      "1. Create Project\n",
      "2. View All Projects\n",
      "3. Edit Your Projects\n",
      "4. Delete Your Project\n",
      "5. Search Projects by Date\n",
      "6. Logout\n"
     ]
    },
    {
     "name": "stdin",
     "output_type": "stream",
     "text": [
      "Choose an option:  4\n"
     ]
    },
    {
     "name": "stdout",
     "output_type": "stream",
     "text": [
      "\n",
      "Your Projects:\n",
      "1. Title: www, Details: qq, Target: 11 EGP, Start Date: 2024-05-07, End Date: 2026-03-02\n"
     ]
    },
    {
     "name": "stdin",
     "output_type": "stream",
     "text": [
      "Select a project to delete (by number):  1\n"
     ]
    },
    {
     "name": "stdout",
     "output_type": "stream",
     "text": [
      "Project deleted successfully!\n",
      "\n",
      "User Menu:\n",
      "1. Create Project\n",
      "2. View All Projects\n",
      "3. Edit Your Projects\n",
      "4. Delete Your Project\n",
      "5. Search Projects by Date\n",
      "6. Logout\n"
     ]
    },
    {
     "name": "stdin",
     "output_type": "stream",
     "text": [
      "Choose an option:  2\n"
     ]
    },
    {
     "name": "stdout",
     "output_type": "stream",
     "text": [
      "\n",
      "All Projects:\n",
      "Title: c#, Details: oop, Target: 120000 EGP, Start Date: 2020-12-16, End Date: 2020-12-16, Owner: AHMED@GMAIL.COM\n",
      "Title: js, Details: big project, Target: 20000 EGP, Start Date: 2020-04-14, End Date: 2025-12-13, Owner: aa@cc.com\n",
      "\n",
      "User Menu:\n",
      "1. Create Project\n",
      "2. View All Projects\n",
      "3. Edit Your Projects\n",
      "4. Delete Your Project\n",
      "5. Search Projects by Date\n",
      "6. Logout\n"
     ]
    },
    {
     "name": "stdin",
     "output_type": "stream",
     "text": [
      "Choose an option:  1\n"
     ]
    },
    {
     "name": "stdout",
     "output_type": "stream",
     "text": [
      "Create Project:\n"
     ]
    },
    {
     "name": "stdin",
     "output_type": "stream",
     "text": [
      "Title:  qqq\n",
      "Details:  www\n",
      "Total Target (EGP):  1222\n",
      "Start Date (YYYY-MM-DD):  1999-02-03\n",
      "End Date (YYYY-MM-DD):  2024-04-05\n"
     ]
    },
    {
     "name": "stdout",
     "output_type": "stream",
     "text": [
      "Project created successfully!\n",
      "\n",
      "User Menu:\n",
      "1. Create Project\n",
      "2. View All Projects\n",
      "3. Edit Your Projects\n",
      "4. Delete Your Project\n",
      "5. Search Projects by Date\n",
      "6. Logout\n"
     ]
    },
    {
     "name": "stdin",
     "output_type": "stream",
     "text": [
      "Choose an option:  5\n",
      "Enter date to search (YYYY-MM-DD):  2000-03-02\n"
     ]
    },
    {
     "name": "stdout",
     "output_type": "stream",
     "text": [
      "\n",
      "Projects Found:\n",
      "Title: qqq, Details: www, Target: 1222 EGP, Start Date: 1999-02-03, End Date: 2024-04-05, Owner: aa@dd.com\n",
      "\n",
      "User Menu:\n",
      "1. Create Project\n",
      "2. View All Projects\n",
      "3. Edit Your Projects\n",
      "4. Delete Your Project\n",
      "5. Search Projects by Date\n",
      "6. Logout\n"
     ]
    },
    {
     "name": "stdin",
     "output_type": "stream",
     "text": [
      "Choose an option:  5\n",
      "Enter date to search (YYYY-MM-DD):  1999-02-03\n"
     ]
    },
    {
     "name": "stdout",
     "output_type": "stream",
     "text": [
      "\n",
      "Projects Found:\n",
      "Title: qqq, Details: www, Target: 1222 EGP, Start Date: 1999-02-03, End Date: 2024-04-05, Owner: aa@dd.com\n",
      "\n",
      "User Menu:\n",
      "1. Create Project\n",
      "2. View All Projects\n",
      "3. Edit Your Projects\n",
      "4. Delete Your Project\n",
      "5. Search Projects by Date\n",
      "6. Logout\n"
     ]
    }
   ],
   "source": [
    "import re\n",
    "from datetime import datetime\n",
    "\n",
    "class User:\n",
    "    def __init__(self, first_name, last_name, email, password, mobile_phone):\n",
    "        self.first_name = first_name\n",
    "        self.last_name = last_name\n",
    "        self.email = email\n",
    "        self.password = password\n",
    "        self.mobile_phone = mobile_phone\n",
    "\n",
    "    def __str__(self):\n",
    "        return f\"{self.first_name},{self.last_name},{self.email},{self.password},{self.mobile_phone}\"\n",
    "\n",
    "\n",
    "class Project:\n",
    "    def __init__(self, title, details, total_target, start_date, end_date, owner_email):\n",
    "        self.title = title\n",
    "        self.details = details\n",
    "        self.total_target = total_target\n",
    "        self.start_date = start_date\n",
    "        self.end_date = end_date\n",
    "        self.owner_email = owner_email\n",
    "\n",
    "    def __str__(self):\n",
    "        return f\"{self.title},{self.details},{self.total_target},{self.start_date},{self.end_date},{self.owner_email}\"\n",
    "\n",
    "\n",
    "class AuthenticationSystem:\n",
    "    def __init__(self, filename=\"users.txt\", projects_file=\"projects.txt\"):\n",
    "        self.filename = filename\n",
    "        self.projects_file = projects_file\n",
    "        self.users = self._load_users()\n",
    "        self.projects = self._load_projects()\n",
    "\n",
    "    def _load_users(self):\n",
    "        users = {}\n",
    "        try:\n",
    "            with open(self.filename, \"r\") as file:\n",
    "                for line in file:\n",
    "                    first_name, last_name, email, password, mobile_phone = line.strip().split(\",\")\n",
    "                    users[email] = User(first_name, last_name, email, password, mobile_phone)\n",
    "        except FileNotFoundError:\n",
    "            pass\n",
    "        return users\n",
    "\n",
    "    def _save_users(self):\n",
    "        with open(self.filename, \"w\") as file:\n",
    "            for user in self.users.values():\n",
    "                file.write(str(user) + \"\\n\")\n",
    "\n",
    "    def _load_projects(self):\n",
    "        projects = []\n",
    "        try:\n",
    "            with open(self.projects_file, \"r\") as file:\n",
    "                for line in file:\n",
    "                    title, details, total_target, start_date, end_date, owner_email = line.strip().split(\",\")\n",
    "                    projects.append(Project(title, details, total_target, start_date, end_date, owner_email))\n",
    "        except FileNotFoundError:\n",
    "            pass\n",
    "        return projects\n",
    "\n",
    "    def _save_projects(self):\n",
    "        with open(self.projects_file, \"w\") as file:\n",
    "            for project in self.projects:\n",
    "                file.write(str(project) + \"\\n\")\n",
    "\n",
    "    def _validate_egyptian_phone(self, phone):\n",
    "        pattern = r\"^01[0125][0-9]{8}$\"\n",
    "        return re.match(pattern, phone) is not None\n",
    "\n",
    "    def _validate_email(self, email):\n",
    "        pattern = r'^[a-zA-Z0-9._%+-]+@[a-zA-Z0-9.-]+\\.[a-zA-Z]{2,}$'\n",
    "        return re.match(pattern, email) is not None\n",
    "\n",
    "    def _validate_date(self, date_str):\n",
    "        try:\n",
    "            datetime.strptime(date_str, \"%Y-%m-%d\")\n",
    "            return True\n",
    "        except ValueError:\n",
    "            return False\n",
    "\n",
    "    def register(self):\n",
    "        print(\"Registration:\")\n",
    "        first_name = input(\"First Name: \")\n",
    "        last_name = input(\"Last Name: \")\n",
    "        email = input(\"Email: \")\n",
    "\n",
    "     \n",
    "        while not self._validate_email(email):\n",
    "            print(\"Invalid email format. Please try again.\")\n",
    "            email = input(\"Email: \")\n",
    "\n",
    "      \n",
    "        if email in self.users:\n",
    "            print(\"Email already registered. Please login instead.\")\n",
    "            return\n",
    "\n",
    "        password = input(\"Password: \")\n",
    "        confirm_password = input(\"Confirm Password: \")\n",
    "\n",
    "     \n",
    "        while password != confirm_password:\n",
    "            print(\"Passwords do not match. Please try again.\")\n",
    "            password = input(\"Password: \")\n",
    "            confirm_password = input(\"Confirm Password: \")\n",
    "\n",
    "        mobile_phone = input(\"Mobile Phone (Egyptian number): \")\n",
    "\n",
    "        \n",
    "        while not self._validate_egyptian_phone(mobile_phone):\n",
    "            print(\"Invalid Egyptian phone number. Please try again.\")\n",
    "            mobile_phone = input(\"Mobile Phone (Egyptian number): \")\n",
    "\n",
    "        \n",
    "        new_user = User(first_name, last_name, email, password, mobile_phone)\n",
    "\n",
    "        \n",
    "        self.users[email] = new_user\n",
    "        self._save_users()\n",
    "        print(\"Registration successful! You can now login.\")\n",
    "\n",
    "    def login(self):\n",
    "        print(\"Login:\")\n",
    "        email = input(\"Email: \")\n",
    "        password = input(\"Password: \")\n",
    "\n",
    "        if email in self.users and self.users[email].password == password:\n",
    "            print(f\"Welcome, {self.users[email].first_name} {self.users[email].last_name}!\")\n",
    "            self.user_menu(email)\n",
    "        else:\n",
    "            print(\"Invalid email or password.\")\n",
    "\n",
    "    def user_menu(self, email):\n",
    "        while True:\n",
    "            print(\"\\nUser Menu:\")\n",
    "            print(\"1. Create Project\")\n",
    "            print(\"2. View All Projects\")\n",
    "            print(\"3. Edit Your Projects\")\n",
    "            print(\"4. Delete Your Project\")\n",
    "            print(\"5. Search Projects by Date\")\n",
    "            print(\"6. Logout\")\n",
    "            choice = input(\"Choose an option: \")\n",
    "\n",
    "            if choice == '1':\n",
    "                self.create_project(email)\n",
    "            elif choice == '2':\n",
    "                self.view_all_projects()\n",
    "            elif choice == '3':\n",
    "                self.edit_project(email)\n",
    "            elif choice == '4':\n",
    "                self.delete_project(email)\n",
    "            elif choice == '5':\n",
    "                self.search_projects_by_date()\n",
    "            elif choice == '6':\n",
    "                print(\"Logging out...\")\n",
    "                break\n",
    "            else:\n",
    "                print(\"Invalid choice. Please try again.\")\n",
    "\n",
    "    def create_project(self, email):\n",
    "        print(\"Create Project:\")\n",
    "        title = input(\"Title: \")\n",
    "        details = input(\"Details: \")\n",
    "        total_target = input(\"Total Target (EGP): \")\n",
    "\n",
    "        start_date = input(\"Start Date (YYYY-MM-DD): \")\n",
    "        while not self._validate_date(start_date):\n",
    "            print(\"Invalid date format. Please use YYYY-MM-DD.\")\n",
    "            start_date = input(\"Start Date (YYYY-MM-DD): \")\n",
    "\n",
    "        end_date = input(\"End Date (YYYY-MM-DD): \")\n",
    "        while not self._validate_date(end_date):\n",
    "            print(\"Invalid date format. Please use YYYY-MM-DD.\")\n",
    "            end_date = input(\"End Date (YYYY-MM-DD): \")\n",
    "\n",
    "  \n",
    "        new_project = Project(title, details, total_target, start_date, end_date, email)\n",
    "        self.projects.append(new_project)\n",
    "        self._save_projects()\n",
    "        print(\"Project created successfully!\")\n",
    "\n",
    "    def view_all_projects(self):\n",
    "        print(\"\\nAll Projects:\")\n",
    "        for project in self.projects:\n",
    "            print(f\"Title: {project.title}, Details: {project.details}, Target: {project.total_target} EGP, \"\n",
    "                  f\"Start Date: {project.start_date}, End Date: {project.end_date}, Owner: {project.owner_email}\")\n",
    "\n",
    "    def edit_project(self, email):\n",
    "        print(\"\\nYour Projects:\")\n",
    "        user_projects = [project for project in self.projects if project.owner_email == email]\n",
    "        for i, project in enumerate(user_projects):\n",
    "            print(f\"{i + 1}. Title: {project.title}, Details: {project.details}, Target: {project.total_target} EGP, \"\n",
    "                  f\"Start Date: {project.start_date}, End Date: {project.end_date}\")\n",
    "\n",
    "        if not user_projects:\n",
    "            print(\"You have no projects to edit.\")\n",
    "            return\n",
    "\n",
    "        try:\n",
    "            choice = int(input(\"Select a project to edit (by number): \")) - 1\n",
    "            if 0 <= choice < len(user_projects):\n",
    "                project = user_projects[choice]\n",
    "                print(f\"Editing Project: {project.title}\")\n",
    "                project.title = input(\"New Title: \")\n",
    "                project.details = input(\"New Details: \")\n",
    "                project.total_target = input(\"New Total Target (EGP): \")\n",
    "\n",
    "                start_date = input(\"New Start Date (YYYY-MM-DD): \")\n",
    "                while not self._validate_date(start_date):\n",
    "                    print(\"Invalid date format. Please use YYYY-MM-DD.\")\n",
    "                    start_date = input(\"New Start Date (YYYY-MM-DD): \")\n",
    "                project.start_date = start_date\n",
    "\n",
    "                end_date = input(\"New End Date (YYYY-MM-DD): \")\n",
    "                while not self._validate_date(end_date):\n",
    "                    print(\"Invalid date format. Please use YYYY-MM-DD.\")\n",
    "                    end_date = input(\"New End Date (YYYY-MM-DD): \")\n",
    "                project.end_date = end_date\n",
    "\n",
    "                self._save_projects()\n",
    "                print(\"Project updated successfully!\")\n",
    "            else:\n",
    "                print(\"Invalid selection.\")\n",
    "        except ValueError:\n",
    "            print(\"Invalid input. Please enter a number.\")\n",
    "\n",
    "    def delete_project(self, email):\n",
    "        print(\"\\nYour Projects:\")\n",
    "        user_projects = [project for project in self.projects if project.owner_email == email]\n",
    "        for i, project in enumerate(user_projects):\n",
    "            print(f\"{i + 1}. Title: {project.title}, Details: {project.details}, Target: {project.total_target} EGP, \"\n",
    "                  f\"Start Date: {project.start_date}, End Date: {project.end_date}\")\n",
    "\n",
    "        if not user_projects:\n",
    "            print(\"You have no projects to delete.\")\n",
    "            return\n",
    "\n",
    "        try:\n",
    "            choice = int(input(\"Select a project to delete (by number): \")) - 1\n",
    "            if 0 <= choice < len(user_projects):\n",
    "                project = user_projects[choice]\n",
    "                self.projects.remove(project)\n",
    "                self._save_projects()\n",
    "                print(\"Project deleted successfully!\")\n",
    "            else:\n",
    "                print(\"Invalid selection.\")\n",
    "        except ValueError:\n",
    "            print(\"Invalid input. Please enter a number.\")\n",
    "\n",
    "    def search_projects_by_date(self):\n",
    "        date = input(\"Enter date to search (YYYY-MM-DD): \")\n",
    "        while not self._validate_date(date):\n",
    "            print(\"Invalid date format. Please use YYYY-MM-DD.\")\n",
    "            date = input(\"Enter date to search (YYYY-MM-DD): \")\n",
    "\n",
    "        found_projects = [project for project in self.projects if project.start_date <= date <= project.end_date]\n",
    "        if found_projects:\n",
    "            print(\"\\nProjects Found:\")\n",
    "            for project in found_projects:\n",
    "                print(f\"Title: {project.title}, Details: {project.details}, Target: {project.total_target} EGP, \"\n",
    "                      f\"Start Date: {project.start_date}, End Date: {project.end_date}, Owner: {project.owner_email}\")\n",
    "        else:\n",
    "            print(\"No projects found for the given date.\")\n",
    "\n",
    "    def main_menu(self):\n",
    "        while True:\n",
    "            print(\"\\nMain Menu:\")\n",
    "            print(\"1. Register\")\n",
    "            print(\"2. Login\")\n",
    "            print(\"3. Exit\")\n",
    "            choice = input(\"Choose an option: \")\n",
    "\n",
    "            if choice == '1':\n",
    "                self.register()\n",
    "            elif choice == '2':\n",
    "                self.login()\n",
    "            elif choice == '3':\n",
    "                print(\"Exiting...\")\n",
    "                break\n",
    "            else:\n",
    "                print(\"Invalid choice. Please try again.\")\n",
    "\n",
    "auth_system = AuthenticationSystem()\n",
    "auth_system.main_menu()"
   ]
  },
  {
   "cell_type": "code",
   "execution_count": null,
   "id": "fdb68c19-60a9-4e67-bddc-2ed1f75ca9e3",
   "metadata": {},
   "outputs": [],
   "source": []
  }
 ],
 "metadata": {
  "kernelspec": {
   "display_name": "Python 3 (ipykernel)",
   "language": "python",
   "name": "python3"
  },
  "language_info": {
   "codemirror_mode": {
    "name": "ipython",
    "version": 3
   },
   "file_extension": ".py",
   "mimetype": "text/x-python",
   "name": "python",
   "nbconvert_exporter": "python",
   "pygments_lexer": "ipython3",
   "version": "3.12.7"
  }
 },
 "nbformat": 4,
 "nbformat_minor": 5
}
