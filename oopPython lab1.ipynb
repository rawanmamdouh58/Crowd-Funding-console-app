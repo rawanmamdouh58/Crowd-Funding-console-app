{
 "cells": [
  {
   "cell_type": "code",
   "execution_count": 1,
   "id": "91ba82a8-41a7-43b0-bdb4-6a08bb2df407",
   "metadata": {},
   "outputs": [],
   "source": [
    "#1\n",
    "def count(s):\n",
    "    vow = \"aeiouAEOUI\"\n",
    "    count = 0\n",
    "    for char in s:\n",
    "        if char in vow:\n",
    "            count += 1\n",
    "    return count\n",
    "\n"
   ]
  },
  {
   "cell_type": "code",
   "execution_count": 2,
   "id": "0a994b45-b06c-4bff-904a-e4af951c4505",
   "metadata": {},
   "outputs": [
    {
     "name": "stdout",
     "output_type": "stream",
     "text": [
      "Number of vowels: 4\n"
     ]
    }
   ],
   "source": [
    "#1\n",
    "string = \"rorr mamdouh\"\n",
    "print(\"Number of vowels:\", count(string))\n",
    "\n",
    "#2\n",
    "def generatearray(l, s):\n",
    "    return [s + i for i in range(l)]"
   ]
  },
  {
   "cell_type": "code",
   "execution_count": 3,
   "id": "fea2211c-9d5f-42a1-9633-b7f3bc2f12c1",
   "metadata": {},
   "outputs": [
    {
     "name": "stdout",
     "output_type": "stream",
     "text": [
      "[10, 11, 12, 13, 14]\n"
     ]
    }
   ],
   "source": [
    "l = 5\n",
    "s = 10\n",
    "print( generatearray(l, s))"
   ]
  },
  {
   "cell_type": "code",
   "execution_count": 4,
   "id": "37dda1c8-27dc-4d3b-a655-a28d36d99cb6",
   "metadata": {},
   "outputs": [
    {
     "ename": "KeyboardInterrupt",
     "evalue": "Interrupted by user",
     "output_type": "error",
     "traceback": [
      "\u001b[1;31m---------------------------------------------------------------------------\u001b[0m",
      "\u001b[1;31mKeyboardInterrupt\u001b[0m                         Traceback (most recent call last)",
      "Cell \u001b[1;32mIn[4], line 13\u001b[0m\n\u001b[0;32m     10\u001b[0m    \u001b[38;5;28mprint\u001b[39m(\u001b[38;5;124m\"\u001b[39m\u001b[38;5;124mAscending order:\u001b[39m\u001b[38;5;124m\"\u001b[39m, asc)\n\u001b[0;32m     11\u001b[0m    \u001b[38;5;28mprint\u001b[39m(\u001b[38;5;124m\"\u001b[39m\u001b[38;5;124mDescending order:\u001b[39m\u001b[38;5;124m\"\u001b[39m, desc)\n\u001b[1;32m---> 13\u001b[0m sortt()\n",
      "Cell \u001b[1;32mIn[4], line 4\u001b[0m, in \u001b[0;36msortt\u001b[1;34m()\u001b[0m\n\u001b[0;32m      2\u001b[0m arr \u001b[38;5;241m=\u001b[39m []\n\u001b[0;32m      3\u001b[0m \u001b[38;5;28;01mfor\u001b[39;00m i \u001b[38;5;129;01min\u001b[39;00m \u001b[38;5;28mrange\u001b[39m(\u001b[38;5;241m5\u001b[39m):\n\u001b[1;32m----> 4\u001b[0m     element \u001b[38;5;241m=\u001b[39m  \u001b[38;5;28mstr\u001b[39m(\u001b[38;5;28minput\u001b[39m(\u001b[38;5;124m\"\u001b[39m\u001b[38;5;124mEnter element : \u001b[39m\u001b[38;5;124m\"\u001b[39m))\n\u001b[0;32m      5\u001b[0m     arr\u001b[38;5;241m.\u001b[39mappend(element)\n\u001b[0;32m      7\u001b[0m asc \u001b[38;5;241m=\u001b[39m \u001b[38;5;28msorted\u001b[39m(arr)\n",
      "File \u001b[1;32m~\\anaconda3\\Lib\\site-packages\\ipykernel\\kernelbase.py:1262\u001b[0m, in \u001b[0;36mKernel.raw_input\u001b[1;34m(self, prompt)\u001b[0m\n\u001b[0;32m   1260\u001b[0m     msg \u001b[38;5;241m=\u001b[39m \u001b[38;5;124m\"\u001b[39m\u001b[38;5;124mraw_input was called, but this frontend does not support input requests.\u001b[39m\u001b[38;5;124m\"\u001b[39m\n\u001b[0;32m   1261\u001b[0m     \u001b[38;5;28;01mraise\u001b[39;00m StdinNotImplementedError(msg)\n\u001b[1;32m-> 1262\u001b[0m \u001b[38;5;28;01mreturn\u001b[39;00m \u001b[38;5;28mself\u001b[39m\u001b[38;5;241m.\u001b[39m_input_request(\n\u001b[0;32m   1263\u001b[0m     \u001b[38;5;28mstr\u001b[39m(prompt),\n\u001b[0;32m   1264\u001b[0m     \u001b[38;5;28mself\u001b[39m\u001b[38;5;241m.\u001b[39m_parent_ident[\u001b[38;5;124m\"\u001b[39m\u001b[38;5;124mshell\u001b[39m\u001b[38;5;124m\"\u001b[39m],\n\u001b[0;32m   1265\u001b[0m     \u001b[38;5;28mself\u001b[39m\u001b[38;5;241m.\u001b[39mget_parent(\u001b[38;5;124m\"\u001b[39m\u001b[38;5;124mshell\u001b[39m\u001b[38;5;124m\"\u001b[39m),\n\u001b[0;32m   1266\u001b[0m     password\u001b[38;5;241m=\u001b[39m\u001b[38;5;28;01mFalse\u001b[39;00m,\n\u001b[0;32m   1267\u001b[0m )\n",
      "File \u001b[1;32m~\\anaconda3\\Lib\\site-packages\\ipykernel\\kernelbase.py:1305\u001b[0m, in \u001b[0;36mKernel._input_request\u001b[1;34m(self, prompt, ident, parent, password)\u001b[0m\n\u001b[0;32m   1302\u001b[0m \u001b[38;5;28;01mexcept\u001b[39;00m \u001b[38;5;167;01mKeyboardInterrupt\u001b[39;00m:\n\u001b[0;32m   1303\u001b[0m     \u001b[38;5;66;03m# re-raise KeyboardInterrupt, to truncate traceback\u001b[39;00m\n\u001b[0;32m   1304\u001b[0m     msg \u001b[38;5;241m=\u001b[39m \u001b[38;5;124m\"\u001b[39m\u001b[38;5;124mInterrupted by user\u001b[39m\u001b[38;5;124m\"\u001b[39m\n\u001b[1;32m-> 1305\u001b[0m     \u001b[38;5;28;01mraise\u001b[39;00m \u001b[38;5;167;01mKeyboardInterrupt\u001b[39;00m(msg) \u001b[38;5;28;01mfrom\u001b[39;00m \u001b[38;5;28;01mNone\u001b[39;00m\n\u001b[0;32m   1306\u001b[0m \u001b[38;5;28;01mexcept\u001b[39;00m \u001b[38;5;167;01mException\u001b[39;00m:\n\u001b[0;32m   1307\u001b[0m     \u001b[38;5;28mself\u001b[39m\u001b[38;5;241m.\u001b[39mlog\u001b[38;5;241m.\u001b[39mwarning(\u001b[38;5;124m\"\u001b[39m\u001b[38;5;124mInvalid Message:\u001b[39m\u001b[38;5;124m\"\u001b[39m, exc_info\u001b[38;5;241m=\u001b[39m\u001b[38;5;28;01mTrue\u001b[39;00m)\n",
      "\u001b[1;31mKeyboardInterrupt\u001b[0m: Interrupted by user"
     ]
    }
   ],
   "source": [
    " def sortt():\n",
    "    arr = []\n",
    "    for i in range(5):\n",
    "        element =  str(input(\"Enter element : \"))\n",
    "        arr.append(element)\n",
    "    \n",
    "    asc = sorted(arr)\n",
    "    desc = sorted(arr, reverse=True)\n",
    "    \n",
    "    print(\"Ascending order:\", asc)\n",
    "    print(\"Descending order:\", desc)\n",
    "\n",
    "sortt()"
   ]
  },
  {
   "cell_type": "code",
   "execution_count": 5,
   "id": "4afddd9c-8af0-4d9c-8049-60b27cc48ef5",
   "metadata": {},
   "outputs": [
    {
     "name": "stdout",
     "output_type": "stream",
     "text": [
      "Buzz\n"
     ]
    }
   ],
   "source": [
    "#4\n",
    "def fizz_buzz(num):\n",
    "    if num % 3 == 0 and num % 5 == 0:\n",
    "        return \"FizzBuzz\"\n",
    "    elif num % 3 == 0:\n",
    "        return \"Fizz\"\n",
    "    elif num % 5 == 0:\n",
    "        return \"Buzz\"\n",
    "    else:\n",
    "        return num\n",
    "\n",
    "number = 5\n",
    "print(fizz_buzz(number))"
   ]
  },
  {
   "cell_type": "code",
   "execution_count": 6,
   "id": "a95b3ba6-59d6-46c1-8d9a-209e757a78eb",
   "metadata": {},
   "outputs": [
    {
     "name": "stdout",
     "output_type": "stream",
     "text": [
      "False\n"
     ]
    }
   ],
   "source": [
    "#5\n",
    "def palindrome(s):\n",
    "    s = s.replace(\" \", \"\").lower()\n",
    "    return s == s[::-1]\n",
    "\n",
    "string = \"madamm\"\n",
    "print( palindrome(string))"
   ]
  },
  {
   "cell_type": "code",
   "execution_count": 8,
   "id": "e956f1b5-ba14-4ee7-9238-14be3157c413",
   "metadata": {},
   "outputs": [
    {
     "ename": "IndentationError",
     "evalue": "unindent does not match any outer indentation level (<string>, line 14)",
     "output_type": "error",
     "traceback": [
      "\u001b[1;36m  File \u001b[1;32m<string>:14\u001b[1;36m\u001b[0m\n\u001b[1;33m    print(j)\u001b[0m\n\u001b[1;37m                       ^\u001b[0m\n\u001b[1;31mIndentationError\u001b[0m\u001b[1;31m:\u001b[0m unindent does not match any outer indentation level\n"
     ]
    }
   ],
   "source": [
    "def chec(str1,str2):\n",
    "    str1 = str1.replace(\" \", \"\").lower()\n",
    "    str2 = str2.replace(\" \", \"\").lower()\n",
    "    for (i=0; i<=str1.length;i=i+1):\n",
    "         for (j=0; j<=str2.length;j=j+1):\n",
    "               if i!=j: \n",
    "                 return j\n",
    "   # for i in str1:\n",
    "    #    for j in str2:\n",
    "     #        if i==j: \n",
    "      #           return j\n",
    "       #          j=j+1\n",
    "        #i=i+1         \n",
    "        print(j)           \n",
    "chec(\"rawan\",\"rawanl\")            "
   ]
  },
  {
   "cell_type": "code",
   "execution_count": 9,
   "id": "c782f7b6-bf39-4cca-9ac2-fc8e13fa990f",
   "metadata": {},
   "outputs": [
    {
     "name": "stdout",
     "output_type": "stream",
     "text": [
      "dou\n"
     ]
    }
   ],
   "source": [
    "#6\n",
    "def substring(s):\n",
    "    longest = \"\"  \n",
    "    current = s[0] \n",
    "    for i in range(1, len(s)):\n",
    "        if s[i] >= s[i-1]:\n",
    "            current += s[i]\n",
    "        else:\n",
    "            if len(current) > len(longest):\n",
    "                longest = current\n",
    "            current = s[i]    \n",
    "    if len(current) > len(longest):\n",
    "        longest = current\n",
    "    \n",
    "    return longest\n",
    "\n",
    "\n",
    "string = \"rawanmamdouh\"\n",
    "print(substring(string))"
   ]
  },
  {
   "cell_type": "code",
   "execution_count": null,
   "id": "5af25540-0d0e-429f-b77d-f787602ab24a",
   "metadata": {},
   "outputs": [],
   "source": []
  }
 ],
 "metadata": {
  "kernelspec": {
   "display_name": "Python 3 (ipykernel)",
   "language": "python",
   "name": "python3"
  },
  "language_info": {
   "codemirror_mode": {
    "name": "ipython",
    "version": 3
   },
   "file_extension": ".py",
   "mimetype": "text/x-python",
   "name": "python",
   "nbconvert_exporter": "python",
   "pygments_lexer": "ipython3",
   "version": "3.12.7"
  }
 },
 "nbformat": 4,
 "nbformat_minor": 5
}
